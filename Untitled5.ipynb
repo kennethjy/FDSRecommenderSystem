{
 "cells": [
  {
   "cell_type": "code",
   "execution_count": 1,
   "id": "a286bd2e-7f51-4926-a57f-439b7b114dbe",
   "metadata": {},
   "outputs": [],
   "source": [
    "import pandas as pd\n",
    "from math import sqrt\n",
    "import numpy as np"
   ]
  },
  {
   "cell_type": "code",
   "execution_count": 53,
   "id": "f4d10f01-e4dc-4808-89e4-930cff729de2",
   "metadata": {},
   "outputs": [
    {
     "name": "stdout",
     "output_type": "stream",
     "text": [
      "<class 'pandas.core.frame.DataFrame'>\n",
      "RangeIndex: 9742 entries, 0 to 9741\n",
      "Data columns (total 3 columns):\n",
      " #   Column   Non-Null Count  Dtype \n",
      "---  ------   --------------  ----- \n",
      " 0   movieId  9742 non-null   int64 \n",
      " 1   title    9742 non-null   object\n",
      " 2   genres   9742 non-null   object\n",
      "dtypes: int64(1), object(2)\n",
      "memory usage: 228.5+ KB\n",
      "None\n"
     ]
    }
   ],
   "source": [
    "movies_df = pd.read_csv('../pythonproject/ml-latest-small/movies.csv')\n",
    "rating_df = pd.read_csv('../pythonproject/ml-latest-small/ratings.csv')\n",
    "print(movies_df.info())"
   ]
  },
  {
   "cell_type": "code",
   "execution_count": 54,
   "id": "928ce5f1-1df3-4afc-acc9-0d9a13aedf46",
   "metadata": {},
   "outputs": [
    {
     "name": "stdout",
     "output_type": "stream",
     "text": [
      "                        title  rating\n",
      "0  Breakfast Club, The (1985)     5.0\n",
      "1            Toy Story (1995)     1.0\n",
      "2              Jumanji (1995)     1.0\n",
      "3         Pulp Fiction (1994)     5.0\n",
      "4                Akira (1988)     4.5\n"
     ]
    }
   ],
   "source": [
    "userInput = [{'title':'Breakfast Club, The (1985)', 'rating':5},\n",
    "             {'title':'Toy Story (1995)', 'rating':1},\n",
    "             {'title':'Jumanji (1995)', 'rating':1},\n",
    "             {'title':'Pulp Fiction (1994)', 'rating':5},\n",
    "             {'title':'Akira (1988)', 'rating':4.5}]\n",
    "inputMovies = pd.DataFrame(userInput)\n",
    "print(inputMovies)"
   ]
  },
  {
   "cell_type": "code",
   "execution_count": 55,
   "id": "694652a6-7b34-40f3-bbd8-56109246260a",
   "metadata": {},
   "outputs": [
    {
     "name": "stdout",
     "output_type": "stream",
     "text": [
      "   movieId                       title  rating\n",
      "0        1            Toy Story (1995)     1.0\n",
      "1        2              Jumanji (1995)     1.0\n",
      "2      296         Pulp Fiction (1994)     5.0\n",
      "3     1274                Akira (1988)     4.5\n",
      "4     1968  Breakfast Club, The (1985)     5.0\n"
     ]
    }
   ],
   "source": [
    "inputId = movies_df[movies_df['title'].isin(inputMovies['title'].tolist())]\n",
    "inputMovies = pd.merge(inputId, inputMovies)\n",
    "inputMovies = inputMovies[['movieId','title','rating']]\n",
    "print(inputMovies)"
   ]
  },
  {
   "cell_type": "code",
   "execution_count": 59,
   "id": "ebb0ba8a-5c88-4b95-849f-6b26c1beeb28",
   "metadata": {},
   "outputs": [
    {
     "name": "stdout",
     "output_type": "stream",
     "text": [
      "         userId  rating  timestamp\n",
      "movieId                           \n",
      "1           215     215        215\n",
      "2           110     110        110\n",
      "296         307     307        307\n",
      "1274         39      39         39\n",
      "1968        113     113        113\n",
      "<bound method Series.unique of 0          1\n",
      "16         1\n",
      "320        4\n",
      "422        4\n",
      "516        5\n",
      "        ... \n",
      "99510    609\n",
      "99534    610\n",
      "99552    610\n",
      "99636    610\n",
      "99664    610\n",
      "Name: userId, Length: 784, dtype: int64>\n"
     ]
    }
   ],
   "source": [
    "userSubset = rating_df[rating_df['movieId'].isin(inputMovies['movieId'].tolist())]\n",
    "print(userSubset.groupby('movieId').count())\n",
    "print(userSubset['userId'].unique)"
   ]
  },
  {
   "cell_type": "code",
   "execution_count": 58,
   "id": "26289caf-ccf1-4b87-9f7d-9606beb3250d",
   "metadata": {},
   "outputs": [
    {
     "name": "stdout",
     "output_type": "stream",
     "text": [
      "[((91,),        userId  movieId  rating   timestamp\n",
      "14121      91        1     4.0  1112713037\n",
      "14122      91        2     3.0  1112713392\n",
      "14173      91      296     4.5  1112711264\n",
      "14316      91     1274     5.0  1112713057\n",
      "14383      91     1968     3.0  1112713409), ((177,),        userId  movieId  rating   timestamp\n",
      "24900     177        1     5.0  1435533535\n",
      "24901     177        2     3.5  1435534109\n",
      "24930     177      296     5.0  1435530409\n",
      "25069     177     1274     2.0  1435535036\n",
      "25129     177     1968     3.5  1435534080), ((219,),        userId  movieId  rating   timestamp\n",
      "31524     219        1     3.5  1194681084\n",
      "31525     219        2     2.5  1194740185\n",
      "31554     219      296     4.0  1198522553\n",
      "31628     219     1274     2.5  1194686351\n",
      "31680     219     1968     3.0  1194931899), ((274,),        userId  movieId  rating   timestamp\n",
      "39229     274        1     4.0  1171410158\n",
      "39230     274        2     3.5  1171934785\n",
      "39288     274      296     5.0  1171493995\n",
      "39448     274     1274     4.0  1205707621\n",
      "39549     274     1968     4.0  1186729108), ((298,),        userId  movieId  rating   timestamp\n",
      "44535     298        1     2.0  1447518257\n",
      "44536     298        2     0.5  1450452897\n",
      "44555     298      296     4.5  1447584408\n",
      "44620     298     1274     4.0  1476627223\n",
      "44655     298     1968     3.5  1466277248)]\n"
     ]
    }
   ],
   "source": [
    "#Groupby creates several sub dataframes where they all have the same value in the column specified as the parameter\n",
    "userSubsetGroup = userSubset.groupby(['userId'])\n",
    "\n",
    "def take_5_elem(x):\n",
    "    # print (len(x[1]))\n",
    "    return len(x[1])\n",
    "    \n",
    "\n",
    "#Sorting it so users with movie most in common with the input will have priority\n",
    "userSubsetGroup = sorted(userSubsetGroup, key=take_5_elem, reverse=True)\n",
    "\n",
    "userSubsetGroup = userSubsetGroup[0:100]\n",
    "print(userSubsetGroup[0:5])"
   ]
  },
  {
   "cell_type": "code",
   "execution_count": 46,
   "id": "7b5aeb7a-7ca0-4b84-b2db-fcf163acfe43",
   "metadata": {},
   "outputs": [],
   "source": [
    "#Store the Pearson Correlation in a dictionary, where the key is the user Id and the value is the coefficient\n",
    "pearsonCorrelationDict = {}\n",
    "\n",
    "#For every user group in our subset\n",
    "for name, group in userSubsetGroup:\n",
    "\n",
    "    #Let's start by sorting the input and current user group so the values aren't mixed up later on\n",
    "    group = group.sort_values(by='movieId')\n",
    "    inputMovies = inputMovies.sort_values(by='movieId')\n",
    "\n",
    "    #Get the N for the formula\n",
    "    nRatings = len(group)\n",
    "\n",
    "    #Get the review scores for the movies that they both have in common\n",
    "    temp_df = inputMovies[inputMovies['movieId'].isin(group['movieId'].tolist())]\n",
    "\n",
    "    #And then store them in a temporary buffer variable in a list format to facilitate future calculations\n",
    "    tempRatingList = temp_df['rating'].tolist()\n",
    "   \n",
    "    #Let's also put the current user group reviews in a list format\n",
    "    tempGroupList = group['rating'].tolist()\n",
    "   \n",
    "    \n",
    "    #Now let's calculate the pearson correlation between two users, so called, x and y manually (check the formula from week 7 slide)\n",
    "    Sxx = sum([i**2 for i in tempRatingList]) - pow(sum(tempRatingList),2)/float(nRatings)\n",
    "    Syy = sum([i**2 for i in tempGroupList]) - pow(sum(tempGroupList),2)/float(nRatings)\n",
    "    Sxy = sum( i*j for i, j in zip(tempRatingList, tempGroupList)) - sum(tempRatingList)*sum(tempGroupList)/float(nRatings)\n",
    "\n",
    "    #If the denominator is different than zero, then divide, else, 0 correlation.\n",
    "    if Sxx != 0 and Syy != 0:\n",
    "        pearsonCorrelationDict[name] = Sxy/sqrt(Sxx*Syy)\n",
    "    else:\n",
    "        pearsonCorrelationDict[name] = 0\n",
    "    "
   ]
  },
  {
   "cell_type": "code",
   "execution_count": 63,
   "id": "977801e7-c355-42fd-a21d-9845304dca54",
   "metadata": {},
   "outputs": [
    {
     "name": "stdout",
     "output_type": "stream",
     "text": [
      "   similarityIndex  userId\n",
      "0         0.351124      91\n",
      "1        -0.254967     177\n",
      "2         0.199967     219\n",
      "3         0.616658     274\n",
      "4         0.916619     298\n"
     ]
    }
   ],
   "source": [
    "pearsonDF = pd.DataFrame.from_dict(pearsonCorrelationDict, orient='index')\n",
    "pearsonDF.columns = ['similarityIndex']\n",
    "pearsonDF['userId'] = pearsonDF.index\n",
    "pearsonDF['userId'] = pearsonDF['userId'].apply(lambda x: int(str(x)[1:-2]))\n",
    "pearsonDF.index = range(len(pearsonDF))\n",
    "print(pearsonDF.head())"
   ]
  },
  {
   "cell_type": "code",
   "execution_count": 64,
   "id": "6766312e-305e-493f-a0e2-42525030366d",
   "metadata": {},
   "outputs": [
    {
     "name": "stdout",
     "output_type": "stream",
     "text": [
      "    similarityIndex  userId\n",
      "49              1.0     160\n",
      "43              1.0     132\n",
      "70              1.0     373\n",
      "82              1.0     489\n",
      "63              1.0     305\n"
     ]
    }
   ],
   "source": [
    "topUsers=pearsonDF.sort_values(by='similarityIndex', ascending=False)[0:50]\n",
    "print(topUsers.head())"
   ]
  },
  {
   "cell_type": "code",
   "execution_count": 65,
   "id": "a1547f2f-b219-479b-add2-f52e68e21091",
   "metadata": {},
   "outputs": [
    {
     "name": "stdout",
     "output_type": "stream",
     "text": [
      "    similarityIndex  userId  movieId  rating  timestamp\n",
      "0               1.0     160        1     4.0  971115026\n",
      "1               1.0     160        2     4.0  971619578\n",
      "2               1.0     160        6     2.0  971115114\n",
      "3               1.0     160       10     1.0  971196422\n",
      "4               1.0     160       22     1.0  971437089\n",
      "..              ...     ...      ...     ...        ...\n",
      "95              1.0     160      880     3.0  971114725\n",
      "96              1.0     160      903     4.0  971195858\n",
      "97              1.0     160      904     4.0  971195858\n",
      "98              1.0     160      908     3.0  971112529\n",
      "99              1.0     160      924     5.0  971113925\n",
      "\n",
      "[100 rows x 5 columns]\n"
     ]
    }
   ],
   "source": [
    "topUsersRating=topUsers.merge(rating_df, left_on='userId', right_on='userId', how='inner')\n",
    "print(topUsersRating.head(100))"
   ]
  },
  {
   "cell_type": "code",
   "execution_count": 66,
   "id": "417725ba-aca5-40b6-ad44-a9bc2f8f0ac8",
   "metadata": {},
   "outputs": [
    {
     "name": "stdout",
     "output_type": "stream",
     "text": [
      "   similarityIndex  userId  movieId  rating  timestamp  weightedRating\n",
      "0              1.0     160        1     4.0  971115026             4.0\n",
      "1              1.0     160        2     4.0  971619578             4.0\n",
      "2              1.0     160        6     2.0  971115114             2.0\n",
      "3              1.0     160       10     1.0  971196422             1.0\n",
      "4              1.0     160       22     1.0  971437089             1.0\n"
     ]
    }
   ],
   "source": [
    "#Multiplies the similarity by the user’s ratings\n",
    "topUsersRating['weightedRating'] = topUsersRating['similarityIndex']*topUsersRating['rating']\n",
    "print(topUsersRating.head())"
   ]
  },
  {
   "cell_type": "code",
   "execution_count": 67,
   "id": "03416a5a-fc2e-4ce8-bc90-ed1544bdb70b",
   "metadata": {},
   "outputs": [
    {
     "name": "stdout",
     "output_type": "stream",
     "text": [
      "         sum_similarityIndex  sum_weightedRating\n",
      "movieId                                         \n",
      "1                  33.529084          114.442383\n",
      "2                  27.842790           87.478362\n",
      "3                   8.012997           23.082393\n",
      "4                   0.549730            0.824594\n",
      "5                   6.961129           19.941031\n"
     ]
    }
   ],
   "source": [
    "#Applies a sum to the topUsers after grouping it up by movieId\n",
    "tempTopUsersRating = topUsersRating.groupby('movieId').sum()[['similarityIndex','weightedRating']]\n",
    "tempTopUsersRating.columns = ['sum_similarityIndex','sum_weightedRating']\n",
    "print(tempTopUsersRating.head())"
   ]
  },
  {
   "cell_type": "code",
   "execution_count": 68,
   "id": "1c76ebdc-5d34-4243-b8ff-14554e39d12b",
   "metadata": {},
   "outputs": [
    {
     "name": "stdout",
     "output_type": "stream",
     "text": [
      "         weighted average recommendation score  movieId\n",
      "movieId                                                \n",
      "1                                     3.413227        1\n",
      "2                                     3.141868        2\n",
      "3                                     2.880619        3\n",
      "4                                     1.500000        4\n",
      "5                                     2.864626        5\n",
      "6                                     3.879256        6\n",
      "7                                     3.181050        7\n",
      "8                                     3.000000        8\n",
      "9                                     2.075569        9\n",
      "10                                    3.210736       10\n"
     ]
    }
   ],
   "source": [
    "#Creates an empty dataframe\n",
    "recommendation_df = pd.DataFrame()\n",
    "\n",
    "#Now we take the weighted average\n",
    "recommendation_df['weighted average recommendation score'] = tempTopUsersRating['sum_weightedRating']/tempTopUsersRating['sum_similarityIndex']\n",
    "recommendation_df['movieId'] = tempTopUsersRating.index\n",
    "print(recommendation_df.head(10))"
   ]
  },
  {
   "cell_type": "code",
   "execution_count": 69,
   "id": "fe77fbc0-ccd5-4690-b9df-775969f99c47",
   "metadata": {},
   "outputs": [
    {
     "name": "stdout",
     "output_type": "stream",
     "text": [
      "         weighted average recommendation score  movieId\n",
      "movieId                                                \n",
      "5537                                       5.0     5537\n",
      "7579                                       5.0     7579\n",
      "986                                        5.0      986\n",
      "456                                        5.0      456\n",
      "3678                                       5.0     3678\n",
      "...                                        ...      ...\n",
      "5323                                       0.5     5323\n",
      "122627                                     0.5   122627\n",
      "61729                                      0.5    61729\n",
      "156609                                     0.5   156609\n",
      "78039                                      0.5    78039\n",
      "\n",
      "[6137 rows x 2 columns]\n"
     ]
    }
   ],
   "source": [
    "recommendation_df = recommendation_df.sort_values(by='weighted average recommendation score', ascending=False)\n",
    "print(recommendation_df)"
   ]
  },
  {
   "cell_type": "code",
   "execution_count": 70,
   "id": "fb7c33fb-70b6-441a-9c22-97d9d68ba30a",
   "metadata": {},
   "outputs": [
    {
     "name": "stdout",
     "output_type": "stream",
     "text": [
      "      movieId                               title  \\\n",
      "2           3             Grumpier Old Men (1995)   \n",
      "3           4            Waiting to Exhale (1995)   \n",
      "4           5  Father of the Bride Part II (1995)   \n",
      "5           6                         Heat (1995)   \n",
      "6           7                      Sabrina (1995)   \n",
      "...       ...                                 ...   \n",
      "9709   187593                   Deadpool 2 (2018)   \n",
      "9710   187595      Solo: A Star Wars Story (2018)   \n",
      "9711   187717    Won't You Be My Neighbor? (2018)   \n",
      "9712   188189          Sorry to Bother You (2018)   \n",
      "9723   189713               BlacKkKlansman (2018)   \n",
      "\n",
      "                                genres  \n",
      "2                       Comedy|Romance  \n",
      "3                 Comedy|Drama|Romance  \n",
      "4                               Comedy  \n",
      "5                Action|Crime|Thriller  \n",
      "6                       Comedy|Romance  \n",
      "...                                ...  \n",
      "9709              Action|Comedy|Sci-Fi  \n",
      "9710  Action|Adventure|Children|Sci-Fi  \n",
      "9711                       Documentary  \n",
      "9712             Comedy|Fantasy|Sci-Fi  \n",
      "9723                Comedy|Crime|Drama  \n",
      "\n",
      "[6132 rows x 3 columns]\n"
     ]
    }
   ],
   "source": [
    "recommended_movie=movies_df.loc[movies_df['movieId'].isin(recommendation_df['movieId'])]\n",
    "\n",
    "#we don't want to recommend the same movie\n",
    "recommended_movie=recommended_movie.loc[~recommended_movie.movieId.isin(userSubset['movieId'])]\n",
    "\n",
    "print(recommended_movie)"
   ]
  },
  {
   "cell_type": "code",
   "execution_count": null,
   "id": "c150eb06-413b-46a3-bda7-ad0976de70fc",
   "metadata": {},
   "outputs": [],
   "source": []
  }
 ],
 "metadata": {
  "kernelspec": {
   "display_name": "Python 3 (ipykernel)",
   "language": "python",
   "name": "python3"
  },
  "language_info": {
   "codemirror_mode": {
    "name": "ipython",
    "version": 3
   },
   "file_extension": ".py",
   "mimetype": "text/x-python",
   "name": "python",
   "nbconvert_exporter": "python",
   "pygments_lexer": "ipython3",
   "version": "3.9.13"
  }
 },
 "nbformat": 4,
 "nbformat_minor": 5
}
